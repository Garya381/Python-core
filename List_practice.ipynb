{
 "cells": [
  {
   "cell_type": "code",
   "execution_count": 1,
   "id": "3f636b32",
   "metadata": {},
   "outputs": [
    {
     "name": "stdout",
     "output_type": "stream",
     "text": [
      "None\n",
      "[1, 6]\n"
     ]
    }
   ],
   "source": [
    "#Q.Write a function called chop that takes a list and modifies it, removing the first and last elements, and returns None. Then write\n",
    "#a function called middle that takes a list and returns a new list that contains all but the first and last elements.\n",
    "\n",
    "l=[1,2,3,4,5,6]\n",
    "a=l.pop(0)\n",
    "b=l.pop(-1)\n",
    "def chop():\n",
    "    print(None)\n",
    "    \n",
    "def middle():\n",
    "    new=[a,b]\n",
    "    print(new)\n",
    "chop()\n",
    "middle()"
   ]
  },
  {
   "cell_type": "code",
   "execution_count": null,
   "id": "7d6657bc",
   "metadata": {},
   "outputs": [],
   "source": []
  }
 ],
 "metadata": {
  "kernelspec": {
   "display_name": "Python 3",
   "language": "python",
   "name": "python3"
  },
  "language_info": {
   "codemirror_mode": {
    "name": "ipython",
    "version": 3
   },
   "file_extension": ".py",
   "mimetype": "text/x-python",
   "name": "python",
   "nbconvert_exporter": "python",
   "pygments_lexer": "ipython3",
   "version": "3.8.8"
  }
 },
 "nbformat": 4,
 "nbformat_minor": 5
}
