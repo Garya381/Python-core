{
 "cells": [
  {
   "cell_type": "code",
   "execution_count": 9,
   "id": "055ea606",
   "metadata": {},
   "outputs": [
    {
     "name": "stdout",
     "output_type": "stream",
     "text": [
      "Size of matrix2\n",
      "Enter number3\n",
      "Enter number4\n",
      "Enter number2\n",
      "Enter number4\n",
      "Element\n",
      "\n",
      "3 4 \n",
      "2 4 \n"
     ]
    }
   ],
   "source": [
    "#Write a program to create matrix and take the input from user for size of matrix and for input the elements.\n",
    "l=[]\n",
    "s=int(input('Size of matrix'))\n",
    "for i in range (0,s):\n",
    "    T=[]\n",
    "    for j in range(0,s):\n",
    "        a=int(input('Enter number'))\n",
    "        T.append(a)\n",
    "    l.append(T)\n",
    "print('Element')\n",
    "print()\n",
    "for i in range(0,s):\n",
    "    for j in range(0,s):\n",
    "        print(l[i][j],end=' ')\n",
    "    print()\n"
   ]
  },
  {
   "cell_type": "code",
   "execution_count": null,
   "id": "e8ba7cfe",
   "metadata": {},
   "outputs": [],
   "source": []
  },
  {
   "cell_type": "code",
   "execution_count": null,
   "id": "c24e4981",
   "metadata": {},
   "outputs": [],
   "source": []
  }
 ],
 "metadata": {
  "kernelspec": {
   "display_name": "Python 3",
   "language": "python",
   "name": "python3"
  },
  "language_info": {
   "codemirror_mode": {
    "name": "ipython",
    "version": 3
   },
   "file_extension": ".py",
   "mimetype": "text/x-python",
   "name": "python",
   "nbconvert_exporter": "python",
   "pygments_lexer": "ipython3",
   "version": "3.8.8"
  }
 },
 "nbformat": 4,
 "nbformat_minor": 5
}
