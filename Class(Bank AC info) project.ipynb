{
 "cells": [
  {
   "cell_type": "markdown",
   "id": "7f5577b5",
   "metadata": {},
   "source": [
    "Q.Create a Python class called BankAccount which represents a bank account, having as attributes: accountNumber (numeric type), name (name of the account owner as string type), balance.\n",
    "Create a constructor with parameters: accountNumber, name, balance.\n",
    "Create a Deposit() method which manages the deposit actions.\n",
    "Create a Withdrawal() method which manages withdrawals actions.\n",
    "Create a bankFees() method to apply the bank fees with a percentage of 5% of the balance account.\n",
    "Create a display() method to display account details.\n",
    "Give the complete code for the BankAccount class.\n"
   ]
  },
  {
   "cell_type": "code",
   "execution_count": 1,
   "id": "e8ba7cfe",
   "metadata": {},
   "outputs": [
    {
     "name": "stdout",
     "output_type": "stream",
     "text": [
      "Account no: 2415135135\n",
      "Name: Gaurav\n",
      "balance: 5500\n"
     ]
    }
   ],
   "source": [
    "class bankaccount():\n",
    "    def __init__(self,account_no,name,bal):\n",
    "        self.account_no=account_no\n",
    "        self.name=name\n",
    "        self.bal=bal\n",
    "        \n",
    "    def deposit(self,d):\n",
    "        self.bal=self.bal+d\n",
    "        \n",
    "    def withdrawal(self,w):\n",
    "        self.bal=self.bal-w\n",
    "        \n",
    "    def bankfees(self):\n",
    "        self.bal=(95/100)*self.bal\n",
    "        \n",
    "    def display(self):\n",
    "        print('Account no:', self.account_no)\n",
    "        print('Name:', self.name)\n",
    "        print('balance:', self.bal)\n",
    "        \n",
    "newaccount=bankaccount(2415135135,'Gaurav',5000)\n",
    "newaccount.withdrawal(500)\n",
    "newaccount.deposit(1000)\n",
    "newaccount.display()"
   ]
  },
  {
   "cell_type": "code",
   "execution_count": null,
   "id": "c24e4981",
   "metadata": {},
   "outputs": [],
   "source": []
  }
 ],
 "metadata": {
  "kernelspec": {
   "display_name": "Python 3",
   "language": "python",
   "name": "python3"
  },
  "language_info": {
   "codemirror_mode": {
    "name": "ipython",
    "version": 3
   },
   "file_extension": ".py",
   "mimetype": "text/x-python",
   "name": "python",
   "nbconvert_exporter": "python",
   "pygments_lexer": "ipython3",
   "version": "3.8.8"
  }
 },
 "nbformat": 4,
 "nbformat_minor": 5
}
