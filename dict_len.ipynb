{
 "cells": [
  {
   "cell_type": "markdown",
   "id": "6b55ded4",
   "metadata": {},
   "source": [
    "Q.Numbers between 1 and 15 (both included) and the values are square of keys."
   ]
  },
  {
   "cell_type": "code",
   "execution_count": 1,
   "id": "7d6657bc",
   "metadata": {},
   "outputs": [
    {
     "name": "stdout",
     "output_type": "stream",
     "text": [
      "{'name': 'len'}\n",
      "{'city': 'len'}\n",
      "{'age': 'short'}\n",
      "{'gender': 'short'}\n",
      "{'pno': 'len'}\n"
     ]
    }
   ],
   "source": [
    "#Q.Write a program to see the length of values of a dictionary if the value length is greater \n",
    "#than 5 print len else print short in new dictionary.\n",
    "\n",
    "\n",
    "x={'name':'Gaurav','city':'NewDelhi',\n",
    "   'age':'23','gender':'male','pno':'123456'}\n",
    "for i in x:\n",
    "    a=len(x[i])\n",
    "    if a>5:\n",
    "        print({i:'len'})\n",
    "    else:\n",
    "        print({i:'short'})\n"
   ]
  },
  {
   "cell_type": "code",
   "execution_count": null,
   "id": "a0ba5d89",
   "metadata": {},
   "outputs": [],
   "source": []
  },
  {
   "cell_type": "code",
   "execution_count": null,
   "id": "0985d16f",
   "metadata": {},
   "outputs": [],
   "source": []
  }
 ],
 "metadata": {
  "kernelspec": {
   "display_name": "Python 3",
   "language": "python",
   "name": "python3"
  },
  "language_info": {
   "codemirror_mode": {
    "name": "ipython",
    "version": 3
   },
   "file_extension": ".py",
   "mimetype": "text/x-python",
   "name": "python",
   "nbconvert_exporter": "python",
   "pygments_lexer": "ipython3",
   "version": "3.8.8"
  }
 },
 "nbformat": 4,
 "nbformat_minor": 5
}
