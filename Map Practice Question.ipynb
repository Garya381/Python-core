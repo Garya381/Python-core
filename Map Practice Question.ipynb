{
 "cells": [
  {
   "cell_type": "markdown",
   "id": "0c56e331",
   "metadata": {},
   "source": [
    "Q.Write a Python program to create a list containing the power of said number in bases raised to the corresponding number in the index using Python map.\n"
   ]
  },
  {
   "cell_type": "code",
   "execution_count": 3,
   "id": "e8ba7cfe",
   "metadata": {},
   "outputs": [
    {
     "name": "stdout",
     "output_type": "stream",
     "text": [
      "Power is: [2, 3, 2] \n",
      "base is: [2, 3, 5]\n",
      "Power of given list is: [4, 27, 25]\n"
     ]
    }
   ],
   "source": [
    "power=[2,3,2]\n",
    "base=[2,3,5]\n",
    "print('Power is:',power,\"\\nbase is:\",base)\n",
    "result=list(map(pow,base,power))\n",
    "print('Power of given list is:',result)\n",
    "\n"
   ]
  },
  {
   "cell_type": "code",
   "execution_count": null,
   "id": "c24e4981",
   "metadata": {},
   "outputs": [],
   "source": []
  }
 ],
 "metadata": {
  "kernelspec": {
   "display_name": "Python 3",
   "language": "python",
   "name": "python3"
  },
  "language_info": {
   "codemirror_mode": {
    "name": "ipython",
    "version": 3
   },
   "file_extension": ".py",
   "mimetype": "text/x-python",
   "name": "python",
   "nbconvert_exporter": "python",
   "pygments_lexer": "ipython3",
   "version": "3.8.8"
  }
 },
 "nbformat": 4,
 "nbformat_minor": 5
}
