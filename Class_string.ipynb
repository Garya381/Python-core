{
 "cells": [
  {
   "cell_type": "markdown",
   "id": "2b16433d",
   "metadata": {},
   "source": [
    "Q.Define a class which has at least two methods: getString: to get a string from console input printString: to print the string in upper case. Also please include simple test function to test the class methods. Hints: Use init method to construct some parameters\n"
   ]
  },
  {
   "cell_type": "code",
   "execution_count": 1,
   "id": "fb25f026",
   "metadata": {},
   "outputs": [
    {
     "name": "stdout",
     "output_type": "stream",
     "text": [
      "Enter you nameAbcdedf\n",
      "ABCDEDF\n"
     ]
    }
   ],
   "source": [
    "class two:\n",
    "    def __inti__(self):\n",
    "        self.name=name\n",
    "        \n",
    "    def getstring(self):\n",
    "        self.name=input('Enter you name')\n",
    "            \n",
    "        \n",
    "    def printstring(self):\n",
    "        print(self.name.upper())\n",
    "        \n",
    "obj=two()\n",
    "obj.getstring()\n",
    "obj.printstring()"
   ]
  },
  {
   "cell_type": "code",
   "execution_count": null,
   "id": "7b1b7ebf",
   "metadata": {},
   "outputs": [],
   "source": []
  }
 ],
 "metadata": {
  "kernelspec": {
   "display_name": "Python 3",
   "language": "python",
   "name": "python3"
  },
  "language_info": {
   "codemirror_mode": {
    "name": "ipython",
    "version": 3
   },
   "file_extension": ".py",
   "mimetype": "text/x-python",
   "name": "python",
   "nbconvert_exporter": "python",
   "pygments_lexer": "ipython3",
   "version": "3.8.8"
  }
 },
 "nbformat": 4,
 "nbformat_minor": 5
}
